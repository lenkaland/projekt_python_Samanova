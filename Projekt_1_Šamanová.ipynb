{
 "cells": [
  {
   "cell_type": "code",
   "execution_count": null,
   "metadata": {},
   "outputs": [],
   "source": [
    "!pip install dash       ## nainstaluji dash\n"
   ]
  },
  {
   "cell_type": "code",
   "execution_count": null,
   "metadata": {},
   "outputs": [],
   "source": [
    "import pandas as pd                 ## nainstaluji další knihovny\n",
    "import seaborn as sns\n",
    "import matplotlib.pyplot as plt\n",
    "import plotly.express as px \n",
    "import dash\n",
    "from dash import html, dcc, Input, Output\n",
    "import threading\n"
   ]
  },
  {
   "cell_type": "code",
   "execution_count": null,
   "metadata": {},
   "outputs": [],
   "source": [
    "df_covid = pd.read_csv('project_1_python.csv')    ##přidám lista csv\n"
   ]
  },
  {
   "cell_type": "code",
   "execution_count": null,
   "metadata": {},
   "outputs": [],
   "source": [
    "df_covid.info()                 ##zjistím informace o dokumentu"
   ]
  },
  {
   "cell_type": "code",
   "execution_count": null,
   "metadata": {},
   "outputs": [],
   "source": [
    "df_population = df_covid[['location', 'population']].drop_duplicates()  ##vyberu sloupce location a population\n"
   ]
  },
  {
   "cell_type": "code",
   "execution_count": null,
   "metadata": {},
   "outputs": [],
   "source": [
    "df_population = df_population.sort_values(by='population', ascending=False).head(15) ##vyberu 15 zemí s nejvyšší populací a smažu duplikace\n"
   ]
  },
  {
   "cell_type": "code",
   "execution_count": null,
   "metadata": {},
   "outputs": [],
   "source": [
    "plt.figure(figsize=(12,8))    ##nastavím velikost a styl grafu\n",
    "sns.set_theme(style=\"whitegrid\")\n",
    "population_chart = sns.barplot(x='location', \n",
    "                               y='population', \n",
    "                               data=df_population,\n",
    "                               color='#3F3244')\n"
   ]
  },
  {
   "cell_type": "code",
   "execution_count": null,
   "metadata": {},
   "outputs": [],
   "source": [
    "population_chart.set_xticklabels(population_chart.get_xticklabels(), rotation=60)  ##nastavím rotaci popisků osy X, abych dosáhla co nejlepší čitelnosti:\n"
   ]
  },
  {
   "cell_type": "code",
   "execution_count": null,
   "metadata": {},
   "outputs": [],
   "source": [
    "df_population_lifeexp = df_covid[['location', 'continent', 'population', 'life_expectancy']].drop_duplicates() ## z dat vyberu pouze sloupce, které mě zajímají, a smažu duplikáty\n"
   ]
  },
  {
   "cell_type": "code",
   "execution_count": null,
   "metadata": {},
   "outputs": [],
   "source": [
    "pop_lifeexp_chart = px.scatter(data_frame=df_population_lifeexp,    ##vygeneruji bodový graf\n",
    "                               x='population', \n",
    "                               y='life_expectancy',\n",
    "                               color='continent',\n",
    "                               color_discrete_sequence=px.colors.qualitative.Prism,\n",
    "                               title='Life expectancy vs. population by continent',\n",
    "                               log_x=True)\n"
   ]
  },
  {
   "cell_type": "code",
   "execution_count": null,
   "metadata": {},
   "outputs": [],
   "source": [
    "pop_lifeexp_chart\n"
   ]
  },
  {
   "cell_type": "markdown",
   "metadata": {},
   "source": [
    "Diagnostikování případů"
   ]
  },
  {
   "cell_type": "code",
   "execution_count": null,
   "metadata": {},
   "outputs": [],
   "source": [
    "df_new_cases = df_covid[['location', 'date', 'new_cases']]   ##vyberu data, která mě zajímají\n",
    "countries = ['Germany', 'Russia']\n",
    "df_new_cases = df_new_cases[df_new_cases['location'].isin(countries)]\n"
   ]
  },
  {
   "cell_type": "code",
   "execution_count": null,
   "metadata": {},
   "outputs": [],
   "source": [
    "ttl_cases_chart = px.line(data_frame=df_new_cases,              ##vyberu spojnicový graf\n",
    "                          x='date', y='new_cases', \n",
    "                          color='location',\n",
    "                          color_discrete_sequence=px.colors.qualitative.T10,\n",
    "                          title='COVID-19 - new cases daily in Russia and Germany')\n"
   ]
  },
  {
   "cell_type": "code",
   "execution_count": null,
   "metadata": {},
   "outputs": [],
   "source": [
    "ttl_cases_chart\n"
   ]
  },
  {
   "cell_type": "code",
   "execution_count": null,
   "metadata": {},
   "outputs": [],
   "source": [
    "df_map = df_covid[df_covid['date'] == df_covid['date'].max()]    \n"
   ]
  },
  {
   "cell_type": "markdown",
   "metadata": {},
   "source": [
    "Mapa Covid 19"
   ]
  },
  {
   "cell_type": "code",
   "execution_count": null,
   "metadata": {},
   "outputs": [],
   "source": [
    "df_map = df_covid[df_covid['date'] == df_covid['date'].max()]   ##vybírám nejčerstvějšínejmńovější data\n"
   ]
  },
  {
   "cell_type": "code",
   "execution_count": null,
   "metadata": {},
   "outputs": [],
   "source": [
    "df_map['cases_per_person'] = df_map['total_cases'] / df_map['population']   ##vytvořím nový slupec poměr případů k polulací\n"
   ]
  },
  {
   "cell_type": "code",
   "execution_count": null,
   "metadata": {},
   "outputs": [],
   "source": [
    "my_mapbox_token = 'my_token'                    ##definuji můj API Mapbox token a používám je pro přístup ke stylům\n",
    "px.set_mapbox_access_token(my_mapbox_token)\n"
   ]
  },
  {
   "cell_type": "code",
   "execution_count": null,
   "metadata": {},
   "outputs": [],
   "source": [
    "cases_map = px.scatter_mapbox(data_frame=df_map,            ##generuji vizualizaci \n",
    "                                  lat='latitude', lon='longitude',\n",
    "                                  color='continent',\n",
    "                                  size='cases_per_person',\n",
    "                                  size_max=20,\n",
    "                                  hover_data={'location': True, \n",
    "                                              'total_cases': True,\n",
    "                                              'continent': False,\n",
    "                                              'cases_per_person': False,\n",
    "                                              'latitude': False,\n",
    "                                              'longitude': False,\n",
    "                                              },\n",
    "                                  zoom=1,\n",
    "                                  mapbox_style='dark',\n",
    "                                  title='COVID-19 map - positive cases per person')\n"
   ]
  },
  {
   "cell_type": "code",
   "execution_count": null,
   "metadata": {},
   "outputs": [],
   "source": [
    "cases_map     \n"
   ]
  },
  {
   "cell_type": "markdown",
   "metadata": {},
   "source": [
    "Řídící panel 1"
   ]
  },
  {
   "cell_type": "code",
   "execution_count": null,
   "metadata": {},
   "outputs": [],
   "source": [
    "df_dash_1 = df_covid      ##vytvořím kopii df_covid rámci a přoiřadím je k df_dash_1\n"
   ]
  },
  {
   "cell_type": "code",
   "execution_count": null,
   "metadata": {},
   "outputs": [],
   "source": [
    "countries_list = list(df_dash_1['location'].drop_duplicates())  ##seznam zemí, které použiji jako hodnoty filtru\n"
   ]
  },
  {
   "cell_type": "code",
   "execution_count": null,
   "metadata": {},
   "outputs": [],
   "source": [
    "first_dash_app = dash.Dash()        ##vytvořím objekt aplikace a definuji rozvržení dashboardu\n",
    "\n",
    "first_dash_app.layout = html.Div([\n",
    "    html.Div([\n",
    "        html.H1('COVID-19 Tracker')\n",
    "    ]),                           \n",
    "    html.P(\"Choose country:\"),\n",
    "    dcc.Dropdown(\n",
    "        id='country', \n",
    "        options=[{'value': str(country), 'label': country} \n",
    "                 for country in countries_list],\n",
    "        value=countries_list[0]\n",
    "        ),\n",
    "    html.Br(),\n",
    "    html.Div(children=[\n",
    "        dcc.Graph(id=\"graph-1\", style={'display': 'inline-block', 'width': '48%'}),\n",
    "        dcc.Graph(id=\"graph-2\", style={'display': 'inline-block', 'width': '48%'})\n",
    "    ])\n",
    "\n",
    "])\n"
   ]
  },
  {
   "cell_type": "code",
   "execution_count": null,
   "metadata": {},
   "outputs": [],
   "source": [
    "@first_dash_app.callback(                           ##Vytvořím první zpětné volání, které použiji k aktualizaci informací v graph-1objektu\n",
    "    Output(component_id='graph-1', component_property='figure'),\n",
    "    Input(component_id='country', component_property='value')\n",
    ")\n",
    "def generate_first_graph(country):\n",
    "    df = df_dash_1[df_dash_1['location'] == country]\n",
    "    fig = px.line(\n",
    "        data_frame=df,\n",
    "        x='date',\n",
    "        y='total_cases',\n",
    "        title=f'Cumulative number of positive cases in {country}',\n",
    "        labels={'total_cases': 'Total cases'}\n",
    "    )\n",
    "    return fig\n"
   ]
  },
  {
   "cell_type": "code",
   "execution_count": null,
   "metadata": {},
   "outputs": [],
   "source": [
    "@first_dash_app.callback(                   ##tímto zpětný voláním aktualizuji druhý objekt graph-2\n",
    "    Output(component_id='graph-2', component_property='figure'),\n",
    "    Input(component_id='country', component_property='value')\n",
    ")\n",
    "def generate_second_graph(country):\n",
    "    df = df_dash_1[df_dash_1['location'] == country]\n",
    "    fig = px.line(\n",
    "        data_frame=df,\n",
    "        x='date',\n",
    "        y='total_deaths',\n",
    "        title=f'Cumulative number of deaths in {country}',\n",
    "        labels={'total_deaths': 'Total deaths'}\n",
    "    )\n",
    "    return fig\n"
   ]
  },
  {
   "cell_type": "code",
   "execution_count": null,
   "metadata": {},
   "outputs": [],
   "source": [
    "import threading\n",
    "from dash import Dash\n",
    "\n",
    "# Definujte funkci pro spuštění serveru\n",
    "def run_dash_app():\n",
    "    app = Dash(__name__)\n",
    "    app.layout = ...\n",
    "    app.run_server(port=8050)\n",
    "\n",
    "# Vytvořte vlákno pro spuštění aplikace\n",
    "thread = threading.Thread(target=run_dash_app)\n",
    "thread.start()\n"
   ]
  },
  {
   "cell_type": "code",
   "execution_count": null,
   "metadata": {},
   "outputs": [],
   "source": [
    "thread = threading.Thread(target=first_dash_app.run_server)  ##aplikaci spustím pomocí threading knihovny a output modulu\n",
    "thread.start()\n",
    "output.serve_kernel_port_as_window(port=8050)\n"
   ]
  },
  {
   "cell_type": "markdown",
   "metadata": {},
   "source": [
    "Řídící panel 2\n",
    "Z df_covid datového rámce vyberu pouze nejnovější záznamy a záznamy obsahující null hodnoty vyplním nulami. "
   ]
  },
  {
   "cell_type": "code",
   "execution_count": null,
   "metadata": {},
   "outputs": [],
   "source": [
    "df_dash_2 = df_covid[df_covid['date'] == df_covid['date'].max()].fillna(0)\n"
   ]
  },
  {
   "cell_type": "code",
   "execution_count": null,
   "metadata": {},
   "outputs": [],
   "source": [
    "##vytvořím si slovník, kam uložím názvy sloupců (metriky) a jejich popisky\n",
    "metric_dict = {'total_cases': 'Total cases', \n",
    "               'total_deaths': 'Total deaths', \n",
    "               'total_tests': 'Total tests', \n",
    "               'total_vaccinations': 'Total vaccinations', \n",
    "               'people_fully_vaccinated': 'Number of fully vaccinated people'}"
   ]
  },
  {
   "cell_type": "code",
   "execution_count": null,
   "metadata": {},
   "outputs": [],
   "source": [
    "##vytvořím filtr, který mi umožní vybrat kontinenty, které budemebudu ukládat do seznamu\n",
    "continent_list = list(df_dash_2['continent'].drop_duplicates())\n"
   ]
  },
  {
   "cell_type": "code",
   "execution_count": null,
   "metadata": {},
   "outputs": [],
   "source": [
    "##vytvořím objekt aplikace a definuji rozvržení dashboardu\n",
    "second_dash_app = dash.Dash()\n",
    "\n",
    "second_dash_app.layout = html.Div([\n",
    "    html.Div([\n",
    "        html.H1('COVID-19 Tracker')\n",
    "    ]),                           \n",
    "    html.P(\"Choose continent:\"),\n",
    "    dcc.Dropdown(\n",
    "        id='continent', \n",
    "        options=[{'value': str(continent), 'label': continent} \n",
    "                 for continent in continent_list],\n",
    "        value=continent_list[0]\n",
    "        ),\n",
    "    html.P(\"Choose metric:\"),\n",
    "    dcc.Dropdown(\n",
    "        id='metric', \n",
    "        options=[{'value': metric, 'label': metric_label} \n",
    "                 for metric, metric_label in metric_dict.items()],\n",
    "        value='total_cases'\n",
    "        ),       \n",
    "    html.Br(),\n",
    "    html.Div(children=[\n",
    "        dcc.Graph(id=\"map\"),\n",
    "    ])\n",
    "\n",
    "])\n"
   ]
  },
  {
   "cell_type": "code",
   "execution_count": null,
   "metadata": {},
   "outputs": [],
   "source": [
    "##vytvořím zpětné volání, které použiji k aktualizaci informací v map objektu\n",
    "@second_dash_app.callback(\n",
    "    Output(component_id='map', component_property='figure'),\n",
    "    [Input(component_id='continent', component_property='value'),\n",
    "    Input(component_id='metric', component_property='value')]\n",
    ")\n",
    "def generate_covid_map(continent, metric):\n",
    "    df = df_dash_2[df_dash_2['continent'] == continent]\n",
    "    map = px.scatter_mapbox(\n",
    "        data_frame=df,\n",
    "        lat='latitude', \n",
    "        lon='longitude',\n",
    "        size=df[metric],\n",
    "        size_max=20,\n",
    "        hover_data={'location': True},\n",
    "        mapbox_style='dark',\n",
    "        zoom=1,\n",
    "        height=600,\n",
    "        title=f'COVID-19 - {metric_dict[metric]} in {continent}'\n",
    "    )\n",
    "    return map\n"
   ]
  },
  {
   "cell_type": "code",
   "execution_count": null,
   "metadata": {},
   "outputs": [],
   "source": [
    "##xaplikaci spustím metodou .run_server() pomocí threading knihovny a outputmodulu\n",
    "thread = threading.Thread(target=second_dash_app.run_server)\n",
    "thread.start()\n",
    "output.serve_kernel_port_as_window(port=8050)\n"
   ]
  },
  {
   "cell_type": "markdown",
   "metadata": {},
   "source": [
    "Řídící panel č. 3"
   ]
  },
  {
   "cell_type": "code",
   "execution_count": 70,
   "metadata": {},
   "outputs": [],
   "source": [
    "##vytvořím aplikační objekt  aplikačního objektu a definuji rozvržení dashboardu \n",
    "third_dash_app = dash.Dash()\n",
    "\n",
    "third_dash_app.layout = html.Div([\n",
    "    html.Div([\n",
    "        html.H1('COVID-19 Tracker')\n",
    "    ]),                           \n",
    "    html.P(\"Choose top x countries:\"),\n",
    "    dcc.Slider(5, 20, 5,\n",
    "        value=5,\n",
    "        id='my-slider'\n",
    "    ),   \n",
    "    html.Br(),\n",
    "    html.Div(children=[\n",
    "        dcc.Graph(id='first-graph', style={'display':'inline-block', 'width': '48%'}),\n",
    "        dcc.Graph(id='second-graph', style={'display':'inline-block', 'width': '48%'})\n",
    "    ])\n",
    "\n",
    "])\n"
   ]
  },
  {
   "cell_type": "code",
   "execution_count": 71,
   "metadata": {},
   "outputs": [],
   "source": [
    "##vytvořím zpětné volání, které použiji k aktualizaci informací v first_graphobjektu. \n",
    "##umsím vybrat nejčerstvější záznamy a seřadit země podle počtu očkování a vybrat pouze n záznamy. Hodnoty null nahradím nulami\n",
    "@third_dash_app.callback(\n",
    "    Output(component_id='first-graph', component_property='figure'),\n",
    "    [Input(component_id='my-slider', component_property='value')]\n",
    ")\n",
    "def generate_vaccinations_graph(n):\n",
    "    max_date = df_covid['date'].max()\n",
    "    df = df_covid[df_covid['date'] == max_date].sort_values(by='total_vaccinations', ascending=False).head(n).fillna(0)\n",
    "    fig = px.bar(\n",
    "        data_frame=df,\n",
    "        x='location',\n",
    "        y='total_vaccinations',\n",
    "        title=f'Number of vaccinations',\n",
    "        labels={'total_vaccinations': 'Total vaccinations'}\n",
    "    )\n",
    "    return fig\n"
   ]
  },
  {
   "cell_type": "code",
   "execution_count": 72,
   "metadata": {},
   "outputs": [],
   "source": [
    "##druhé zpětné volání předá figuru second-graph objektu. \n",
    "##vytvořím nové vaccinaton_ratio měřítko, které vypočítá poměr celkového počtu proočkovaných osob k populaci\n",
    "@third_dash_app.callback(\n",
    "    Output(component_id='second-graph', component_property='figure'),\n",
    "    [Input(component_id='my-slider', component_property='value')]\n",
    ")\n",
    "def generate_vaccination_ratio_graph(n):\n",
    "    max_date = df_covid['date'].max()\n",
    "    df = df_covid[df_covid['date'] == max_date]\n",
    "    df['vaccination_ratio'] = df['total_vaccinations'] / df['population']\n",
    "    df = df.sort_values(by='vaccination_ratio', ascending=False).head(n).fillna(0)\n",
    "    fig = px.bar(\n",
    "        data_frame=df,\n",
    "        x='location',\n",
    "        y='vaccination_ratio',\n",
    "        title=f'Vaccination ratio',\n",
    "        labels={'vaccination_ratio': 'Vaccination ratio'}\n",
    "    )\n",
    "    return fig\n"
   ]
  },
  {
   "cell_type": "code",
   "execution_count": null,
   "metadata": {},
   "outputs": [],
   "source": [
    "##aplikaci spouštím pomocí threading knihovny a output modulu z google.colabknihovny\n",
    "thread = threading.Thread(target=third_dash_app.run_server)\n",
    "thread.start()\n",
    "output.serve_kernel_port_as_window(port=8050)\n"
   ]
  }
 ],
 "metadata": {
  "kernelspec": {
   "display_name": "base",
   "language": "python",
   "name": "python3"
  },
  "language_info": {
   "codemirror_mode": {
    "name": "ipython",
    "version": 3
   },
   "file_extension": ".py",
   "mimetype": "text/x-python",
   "name": "python",
   "nbconvert_exporter": "python",
   "pygments_lexer": "ipython3",
   "version": "3.12.7"
  }
 },
 "nbformat": 4,
 "nbformat_minor": 2
}
