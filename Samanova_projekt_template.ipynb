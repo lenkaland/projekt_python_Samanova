{
 "cells": [
  {
   "cell_type": "markdown",
   "id": "5f1453e00ba07110",
   "metadata": {},
   "source": [
    "### Závěrečný projekt - modul Python"
   ]
  },
  {
   "cell_type": "markdown",
   "id": "80f51208356c3824",
   "metadata": {},
   "source": [
    "V tomto projektu budete analyzovat data ze stránky `www.sreality.cz`. Budete tedy získávat aktuální nabídku bytů ve Zlíně.\n",
    "Projekt se dělí na 2 části:\n",
    "1. WebScraping - pomocí knihovny `BeautifulSoup` získejte všechny aktuální inzerce bytů v daném městě. \n",
    "- Získáte **tyto** informace: `URL odkaz bytu, rozměry bytu, kompozice bytu, cena bytu, lokace bytu (Ulice+město)`\n",
    "2. Datová analýza - ETL proces\n",
    "- V první fázi prověďte processing dat tak, aby obsahovala příslušné datové typy, nenulové hodnoty atp. Ulice i město bude v samostatných sloupcích.\n",
    "- Zprocesovaná a vyčištěná data vyexportujte do `.csv` souboru s názvem `{vašeJméno}_zdrojová_data.csv`\n",
    "3. Datová analýza - analýza dat\n",
    "- Třetí část začněte tak, že si do dataframe nahrajete vámi vyexportovaný `.csv` soubor s vyscrapovanými daty.\n",
    "- Ve druhé fázi proveďte analýzu dat a odpovězte na tyto dotazy:\n",
    "- `Jaká je průměrná cena bytů?`\n",
    "- `Jaká je průměrná cena bytů pro každou kompozici (1+1, 2+1, atp.)? Zobrazte i na grafu.`\n",
    "- `Jaká je průměrná velikost bytu pro každou kompozici?`\n",
    "- `Existuje ulice, kde je vyšší koncentrace dražších bytů?`\n",
    "- `Jaký typ kompozice je v daném městě nejčastěji inzerovan? Který to je? Proč myslíte, že tomu tak je?`\n",
    "- `Existují zde inzerce bytů, které stojí více, než 20.000,-? Pokud ano, jsou v této cenové hladině inzerovány i maximálně dvoupokojové byty (2+1/2+kk)?`\n",
    "- `Zjištěte minimální a maximální inzerce pro každou kompozici bytu. Která kompozice má největší rozptyl mezi minimální a maximální inzerovanou cenou?`\n",
    "\n",
    "\n",
    "Dotazy zodpovězte ve vašem pracovním notebooku a výsledný soubor nahrajte na GitHub.\n"
   ]
  },
  {
   "cell_type": "markdown",
   "id": "59dc9d3b2384bd4e",
   "metadata": {},
   "source": [
    "### WebScraping"
   ]
  },
  {
   "cell_type": "code",
   "execution_count": 431,
   "id": "147906b9",
   "metadata": {},
   "outputs": [
    {
     "name": "stdout",
     "output_type": "stream",
     "text": [
      "Scrapuju stránku č. 2\n",
      "Scrapuju stránku č. 3\n",
      "Scrapuju stránku č. 4\n",
      "Scrapuju stránku č. 5\n",
      "Scrapuju stránku č. 6\n",
      "Scrapuju stránku č. 7\n",
      "Scrapuju stránku č. 8\n",
      "Již zde není žádná další strana. Končím\n"
     ]
    }
   ],
   "source": [
    "from bs4 import BeautifulSoup\n",
    "import requests\n",
    "\n",
    "strana = 1\n",
    "\n",
    "byty = []\n",
    "\n",
    "\n",
    "while True:\n",
    "    mesto = 'zlin'\n",
    "    data = requests.get(f'https://www.sreality.cz/hledani/pronajem/byty/{mesto}?strana={strana}').text\n",
    "    soup = BeautifulSoup(data, 'html.parser')\n",
    "\n",
    "    \n",
    "    # Získáte **tyto** informace: `URL odkaz bytu, rozměry bytu, kompozice bytu, cena bytu, lokace bytu (Ulice+město)`\n",
    "\n",
    "    ##############################################################################################################################\n",
    "\n",
    "    seznam_nabidek = soup.findAll('li', 'MuiGrid-root MuiGrid-item css-l1328q')\n",
    "\n",
    "    for nabidka in seznam_nabidek:\n",
    "        id = nabidka['id']\n",
    "        if 'estate' in id or 'region' in id:\n",
    "            nabidka_href = nabidka.find('a', 'MuiTypography-root MuiTypography-inherit MuiLink-root MuiLink-underlineAlways css-1c7vz4z')['href']\n",
    "            #print(nabidka_href)\n",
    "            rozmery = nabidka.find('p', 'MuiTypography-root MuiTypography-body1 css-13ztabn').text.replace('\\xa0', '')\n",
    "            rozmery = rozmery.replace('SLEVA: ', '')\n",
    "            #rozmery = rozmery.replace('atypický ', '0 ')\n",
    "            rozmery = rozmery.replace('pokoje ', 'pokoj ')\n",
    "            #print(rozmery)\n",
    "            lokace = nabidka.findAll('p', 'MuiTypography-root MuiTypography-body1 css-13ztabn')[1].text\n",
    "            lokace_rozdelena = lokace.split(',')\n",
    "            if len(lokace_rozdelena) == 2:\n",
    "                ulice = lokace_rozdelena[0]\n",
    "                mesto = lokace_rozdelena[1]\n",
    "            else:\n",
    "                ulice = 'NaN'\n",
    "                mesto = lokace_rozdelena[0]\n",
    "            #print(lokace)\n",
    "            cena = nabidka.find('p', 'MuiTypography-root MuiTypography-body1 css-1ndcg2e').text.replace('\\xa0', '')\n",
    "            #print(cena)\n",
    "\n",
    "            objekt_byt = {\n",
    "                'URL odkaz': 'https://www.sreality.cz' + nabidka_href,\n",
    "                'Dispozice': rozmery,\n",
    "                'Lokace': lokace,\n",
    "                'Ulice': ulice,\n",
    "                'Mesto': mesto,\n",
    "                'Cena za mesic' : cena\n",
    "            }\n",
    "\n",
    "            byty.append(objekt_byt)\n",
    "\n",
    "    ##############################################################################################################################\n",
    "    \n",
    "\n",
    "\n",
    "    \"\"\"\n",
    "    ------------------------------------------------------------------------------------------------\n",
    "    Tohle ponechte pod vaším kódem - kontroluje se, zda na stránce existuje tlačítko Další stránky. Pokud ne, program končí.\n",
    "    ------------------------------------------------------------------------------------------------\n",
    "    \"\"\"\n",
    "    \n",
    "    button = soup.find('button', 'MuiButtonBase-root MuiButton-root MuiButton-outlined MuiButton-outlinedInherit MuiButton-sizeMedium MuiButton-outlinedSizeMedium MuiButton-colorInherit MuiButton-root MuiButton-outlined MuiButton-outlinedInherit MuiButton-sizeMedium MuiButton-outlinedSizeMedium MuiButton-colorInherit css-lp5ywq').text\n",
    "\n",
    "    if button != 'Další stránka':\n",
    "        print('Již zde není žádná další strana. Končím')\n",
    "        break\n",
    "\n",
    "    strana += 1\n",
    "\n",
    "    print(f'Scrapuju stránku č. {strana}')\n",
    "\n"
   ]
  },
  {
   "cell_type": "markdown",
   "id": "f54576ab629fed11",
   "metadata": {},
   "source": [
    "### Datová analýza"
   ]
  },
  {
   "cell_type": "code",
   "execution_count": 432,
   "id": "4a2f14acc4baf746",
   "metadata": {},
   "outputs": [
    {
     "data": {
      "text/html": [
       "<div>\n",
       "<style scoped>\n",
       "    .dataframe tbody tr th:only-of-type {\n",
       "        vertical-align: middle;\n",
       "    }\n",
       "\n",
       "    .dataframe tbody tr th {\n",
       "        vertical-align: top;\n",
       "    }\n",
       "\n",
       "    .dataframe thead th {\n",
       "        text-align: right;\n",
       "    }\n",
       "</style>\n",
       "<table border=\"1\" class=\"dataframe\">\n",
       "  <thead>\n",
       "    <tr style=\"text-align: right;\">\n",
       "      <th></th>\n",
       "      <th>URL odkaz</th>\n",
       "      <th>Dispozice</th>\n",
       "      <th>Lokace</th>\n",
       "      <th>Ulice</th>\n",
       "      <th>Mesto</th>\n",
       "      <th>Cena za mesic</th>\n",
       "    </tr>\n",
       "  </thead>\n",
       "  <tbody>\n",
       "    <tr>\n",
       "      <th>0</th>\n",
       "      <td>https://www.sreality.cz/detail/pronajem/byt/2+...</td>\n",
       "      <td>Pronájem bytu 2+kk 57m²</td>\n",
       "      <td>Nad Vývozem, Zlín</td>\n",
       "      <td>Nad Vývozem</td>\n",
       "      <td>Zlín</td>\n",
       "      <td>14000Kč/měsíc</td>\n",
       "    </tr>\n",
       "    <tr>\n",
       "      <th>1</th>\n",
       "      <td>https://www.sreality.cz/detail/pronajem/byt/1+...</td>\n",
       "      <td>Pronájem bytu 1+1 36m²</td>\n",
       "      <td>Podlesí V, Zlín</td>\n",
       "      <td>Podlesí V</td>\n",
       "      <td>Zlín</td>\n",
       "      <td>11500Kč/měsíc</td>\n",
       "    </tr>\n",
       "    <tr>\n",
       "      <th>2</th>\n",
       "      <td>https://www.sreality.cz/detail/pronajem/byt/1+...</td>\n",
       "      <td>Pronájem bytu 1+kk 26m²</td>\n",
       "      <td>Tečovská, Zlín - Malenovice</td>\n",
       "      <td>Tečovská</td>\n",
       "      <td>Zlín - Malenovice</td>\n",
       "      <td>8300Kč/měsíc</td>\n",
       "    </tr>\n",
       "    <tr>\n",
       "      <th>3</th>\n",
       "      <td>https://www.sreality.cz/detail/pronajem/byt/1+...</td>\n",
       "      <td>Pronájem bytu 1+kk 31m²</td>\n",
       "      <td>J. A. Bati, Zlín</td>\n",
       "      <td>J. A. Bati</td>\n",
       "      <td>Zlín</td>\n",
       "      <td>Cena na vyžádání</td>\n",
       "    </tr>\n",
       "    <tr>\n",
       "      <th>4</th>\n",
       "      <td>https://www.sreality.cz/detail/pronajem/byt/2+...</td>\n",
       "      <td>Pronájem bytu 2+kk 65m²</td>\n",
       "      <td>Lorencova, Zlín</td>\n",
       "      <td>Lorencova</td>\n",
       "      <td>Zlín</td>\n",
       "      <td>18700Kč/měsíc</td>\n",
       "    </tr>\n",
       "  </tbody>\n",
       "</table>\n",
       "</div>"
      ],
      "text/plain": [
       "                                           URL odkaz                Dispozice  \\\n",
       "0  https://www.sreality.cz/detail/pronajem/byt/2+...  Pronájem bytu 2+kk 57m²   \n",
       "1  https://www.sreality.cz/detail/pronajem/byt/1+...   Pronájem bytu 1+1 36m²   \n",
       "2  https://www.sreality.cz/detail/pronajem/byt/1+...  Pronájem bytu 1+kk 26m²   \n",
       "3  https://www.sreality.cz/detail/pronajem/byt/1+...  Pronájem bytu 1+kk 31m²   \n",
       "4  https://www.sreality.cz/detail/pronajem/byt/2+...  Pronájem bytu 2+kk 65m²   \n",
       "\n",
       "                        Lokace        Ulice               Mesto  \\\n",
       "0            Nad Vývozem, Zlín  Nad Vývozem                Zlín   \n",
       "1              Podlesí V, Zlín    Podlesí V                Zlín   \n",
       "2  Tečovská, Zlín - Malenovice     Tečovská   Zlín - Malenovice   \n",
       "3             J. A. Bati, Zlín   J. A. Bati                Zlín   \n",
       "4              Lorencova, Zlín    Lorencova                Zlín   \n",
       "\n",
       "      Cena za mesic  \n",
       "0     14000Kč/měsíc  \n",
       "1     11500Kč/měsíc  \n",
       "2      8300Kč/měsíc  \n",
       "3  Cena na vyžádání  \n",
       "4     18700Kč/měsíc  "
      ]
     },
     "execution_count": 432,
     "metadata": {},
     "output_type": "execute_result"
    }
   ],
   "source": [
    "import pandas as pd\n",
    "\n",
    "df = pd.DataFrame(byty)\n",
    "df.head()\n"
   ]
  },
  {
   "cell_type": "code",
   "execution_count": 433,
   "id": "de7b9f64",
   "metadata": {},
   "outputs": [
    {
     "data": {
      "text/plain": [
       "0    57m²\n",
       "1    36m²\n",
       "2    26m²\n",
       "3    31m²\n",
       "4    65m²\n",
       "Name: Rozmery, dtype: object"
      ]
     },
     "execution_count": 433,
     "metadata": {},
     "output_type": "execute_result"
    }
   ],
   "source": [
    "df['Rozmery'] = df['Dispozice'].str.split(' ').str[3]\n",
    "df['Rozmery'].head()"
   ]
  },
  {
   "cell_type": "code",
   "execution_count": 434,
   "id": "fb05cd3d",
   "metadata": {},
   "outputs": [
    {
     "data": {
      "text/plain": [
       "0    2+kk\n",
       "1     1+1\n",
       "2    1+kk\n",
       "3    1+kk\n",
       "4    2+kk\n",
       "Name: Kompozice, dtype: object"
      ]
     },
     "execution_count": 434,
     "metadata": {},
     "output_type": "execute_result"
    }
   ],
   "source": [
    "df['Kompozice'] = df['Dispozice'].str.split(' ').str[2]\n",
    "df['Kompozice'].head()"
   ]
  },
  {
   "cell_type": "code",
   "execution_count": 438,
   "id": "91c54635",
   "metadata": {},
   "outputs": [
    {
     "data": {
      "text/plain": [
       "0               14000\n",
       "1               11500\n",
       "2                8300\n",
       "3    Cena na vyžádání\n",
       "4               18700\n",
       "Name: Cena, dtype: object"
      ]
     },
     "execution_count": 438,
     "metadata": {},
     "output_type": "execute_result"
    }
   ],
   "source": [
    "df['Cena'] = df['Cena za mesic'].str.replace('Kč/měsíc', '')\n",
    "df['Cena'].head()"
   ]
  },
  {
   "cell_type": "code",
   "execution_count": 435,
   "id": "0d77bdc5",
   "metadata": {},
   "outputs": [
    {
     "data": {
      "text/plain": [
       "0    57\n",
       "1    36\n",
       "2    26\n",
       "3    31\n",
       "4    65\n",
       "Name: Rozmer bez jednotek, dtype: object"
      ]
     },
     "execution_count": 435,
     "metadata": {},
     "output_type": "execute_result"
    }
   ],
   "source": [
    "df['Rozmer bez jednotek'] = df['Rozmery'].str.replace('m²', '')\n",
    "df['Rozmer bez jednotek'].head()"
   ]
  },
  {
   "cell_type": "code",
   "execution_count": 439,
   "id": "f22bb2ac",
   "metadata": {},
   "outputs": [],
   "source": [
    "#URL odkaz bytu, rozměry bytu, kompozice bytu, cena bytu, lokace bytu (Ulice+město)\n",
    "\n",
    "df = df[['URL odkaz', 'Dispozice', 'Rozmery', 'Rozmer bez jednotek', 'Kompozice', 'Lokace', 'Ulice', 'Mesto', 'Cena za mesic', 'Cena']]"
   ]
  },
  {
   "cell_type": "code",
   "execution_count": 440,
   "id": "6cbacf74",
   "metadata": {},
   "outputs": [
    {
     "data": {
      "text/html": [
       "<div>\n",
       "<style scoped>\n",
       "    .dataframe tbody tr th:only-of-type {\n",
       "        vertical-align: middle;\n",
       "    }\n",
       "\n",
       "    .dataframe tbody tr th {\n",
       "        vertical-align: top;\n",
       "    }\n",
       "\n",
       "    .dataframe thead th {\n",
       "        text-align: right;\n",
       "    }\n",
       "</style>\n",
       "<table border=\"1\" class=\"dataframe\">\n",
       "  <thead>\n",
       "    <tr style=\"text-align: right;\">\n",
       "      <th></th>\n",
       "      <th>URL odkaz</th>\n",
       "      <th>Dispozice</th>\n",
       "      <th>Rozmery</th>\n",
       "      <th>Rozmer bez jednotek</th>\n",
       "      <th>Kompozice</th>\n",
       "      <th>Lokace</th>\n",
       "      <th>Ulice</th>\n",
       "      <th>Mesto</th>\n",
       "      <th>Cena za mesic</th>\n",
       "      <th>Cena</th>\n",
       "    </tr>\n",
       "  </thead>\n",
       "  <tbody>\n",
       "    <tr>\n",
       "      <th>0</th>\n",
       "      <td>https://www.sreality.cz/detail/pronajem/byt/2+...</td>\n",
       "      <td>Pronájem bytu 2+kk 57m²</td>\n",
       "      <td>57m²</td>\n",
       "      <td>57</td>\n",
       "      <td>2+kk</td>\n",
       "      <td>Nad Vývozem, Zlín</td>\n",
       "      <td>Nad Vývozem</td>\n",
       "      <td>Zlín</td>\n",
       "      <td>14000Kč/měsíc</td>\n",
       "      <td>14000</td>\n",
       "    </tr>\n",
       "    <tr>\n",
       "      <th>1</th>\n",
       "      <td>https://www.sreality.cz/detail/pronajem/byt/1+...</td>\n",
       "      <td>Pronájem bytu 1+1 36m²</td>\n",
       "      <td>36m²</td>\n",
       "      <td>36</td>\n",
       "      <td>1+1</td>\n",
       "      <td>Podlesí V, Zlín</td>\n",
       "      <td>Podlesí V</td>\n",
       "      <td>Zlín</td>\n",
       "      <td>11500Kč/měsíc</td>\n",
       "      <td>11500</td>\n",
       "    </tr>\n",
       "    <tr>\n",
       "      <th>2</th>\n",
       "      <td>https://www.sreality.cz/detail/pronajem/byt/1+...</td>\n",
       "      <td>Pronájem bytu 1+kk 26m²</td>\n",
       "      <td>26m²</td>\n",
       "      <td>26</td>\n",
       "      <td>1+kk</td>\n",
       "      <td>Tečovská, Zlín - Malenovice</td>\n",
       "      <td>Tečovská</td>\n",
       "      <td>Zlín - Malenovice</td>\n",
       "      <td>8300Kč/měsíc</td>\n",
       "      <td>8300</td>\n",
       "    </tr>\n",
       "    <tr>\n",
       "      <th>3</th>\n",
       "      <td>https://www.sreality.cz/detail/pronajem/byt/1+...</td>\n",
       "      <td>Pronájem bytu 1+kk 31m²</td>\n",
       "      <td>31m²</td>\n",
       "      <td>31</td>\n",
       "      <td>1+kk</td>\n",
       "      <td>J. A. Bati, Zlín</td>\n",
       "      <td>J. A. Bati</td>\n",
       "      <td>Zlín</td>\n",
       "      <td>Cena na vyžádání</td>\n",
       "      <td>Cena na vyžádání</td>\n",
       "    </tr>\n",
       "    <tr>\n",
       "      <th>4</th>\n",
       "      <td>https://www.sreality.cz/detail/pronajem/byt/2+...</td>\n",
       "      <td>Pronájem bytu 2+kk 65m²</td>\n",
       "      <td>65m²</td>\n",
       "      <td>65</td>\n",
       "      <td>2+kk</td>\n",
       "      <td>Lorencova, Zlín</td>\n",
       "      <td>Lorencova</td>\n",
       "      <td>Zlín</td>\n",
       "      <td>18700Kč/měsíc</td>\n",
       "      <td>18700</td>\n",
       "    </tr>\n",
       "  </tbody>\n",
       "</table>\n",
       "</div>"
      ],
      "text/plain": [
       "                                           URL odkaz                Dispozice  \\\n",
       "0  https://www.sreality.cz/detail/pronajem/byt/2+...  Pronájem bytu 2+kk 57m²   \n",
       "1  https://www.sreality.cz/detail/pronajem/byt/1+...   Pronájem bytu 1+1 36m²   \n",
       "2  https://www.sreality.cz/detail/pronajem/byt/1+...  Pronájem bytu 1+kk 26m²   \n",
       "3  https://www.sreality.cz/detail/pronajem/byt/1+...  Pronájem bytu 1+kk 31m²   \n",
       "4  https://www.sreality.cz/detail/pronajem/byt/2+...  Pronájem bytu 2+kk 65m²   \n",
       "\n",
       "  Rozmery Rozmer bez jednotek Kompozice                       Lokace  \\\n",
       "0    57m²                  57      2+kk            Nad Vývozem, Zlín   \n",
       "1    36m²                  36       1+1              Podlesí V, Zlín   \n",
       "2    26m²                  26      1+kk  Tečovská, Zlín - Malenovice   \n",
       "3    31m²                  31      1+kk             J. A. Bati, Zlín   \n",
       "4    65m²                  65      2+kk              Lorencova, Zlín   \n",
       "\n",
       "         Ulice               Mesto     Cena za mesic              Cena  \n",
       "0  Nad Vývozem                Zlín     14000Kč/měsíc             14000  \n",
       "1    Podlesí V                Zlín     11500Kč/měsíc             11500  \n",
       "2     Tečovská   Zlín - Malenovice      8300Kč/měsíc              8300  \n",
       "3   J. A. Bati                Zlín  Cena na vyžádání  Cena na vyžádání  \n",
       "4    Lorencova                Zlín     18700Kč/měsíc             18700  "
      ]
     },
     "execution_count": 440,
     "metadata": {},
     "output_type": "execute_result"
    }
   ],
   "source": [
    "df.head()"
   ]
  },
  {
   "cell_type": "code",
   "execution_count": 441,
   "id": "997ea72e",
   "metadata": {},
   "outputs": [
    {
     "data": {
      "text/plain": [
       "array(['Pronájem bytu 2+kk 57m²', 'Pronájem bytu 1+1 36m²',\n",
       "       'Pronájem bytu 1+kk 26m²', 'Pronájem bytu 1+kk 31m²',\n",
       "       'Pronájem bytu 2+kk 65m²', 'Pronájem bytu 2+1 56m²',\n",
       "       'Pronájem bytu 1+1 25m²', 'Pronájem bytu 1+kk 21m²',\n",
       "       'Pronájem bytu 3+1 68m²', 'Pronájem bytu 2+kk 96m²',\n",
       "       'Pronájem bytu 1+kk 41m²', 'Pronájem bytu 1+1 34m²',\n",
       "       'Pronájem bytu 2+1 48m²', 'Pronájem bytu 2+1 58m²',\n",
       "       'Pronájem bytu 3+1 64m²', 'Pronájem bytu 2+1 55m²',\n",
       "       'Pronájem bytu 3+1 96m²', 'Pronájem bytu 3+1 115m²',\n",
       "       'Pronájem bytu 2+kk 64m²', 'Pronájem bytu 3+1 73m²',\n",
       "       'Pronájem bytu 1+kk 37m²', 'Pronájem bytu 2+kk 60m²',\n",
       "       'Pronájem bytu 2+1 44m²', 'Pronájem bytu 1+kk 32m²',\n",
       "       'Pronájem bytu 2+1 68m²', 'Pronájem bytu 1+1 33m²',\n",
       "       'Pronájem bytu 2+1 57m²', 'Pronájem bytu 2+kk 48m²',\n",
       "       'Pronájem bytu 2+kk 51m²', 'Pronájem bytu 1+kk 28m²',\n",
       "       'Pronájem bytu 1+kk 30m²', 'Pronájem bytu 1+kk 23m²',\n",
       "       'Pronájem bytu 2+kk 56m²', 'Pronájem bytu 2+kk 55m²',\n",
       "       'Pronájem bytu 2+kk 50m²', 'Pronájem bytu 1+kk 29m²',\n",
       "       'Pronájem bytu 1+1 45m²', 'Pronájem bytu 1+kk 40m²',\n",
       "       'Pronájem bytu 3+kk 66m²', 'Pronájem bytu 1+1 38m²',\n",
       "       'Pronájem bytu atypický 19m²', 'Pronájem bytu pokoj 21m²',\n",
       "       'Pronájem bytu 2+kk 44m²', 'Pronájem bytu 3+kk 110m²',\n",
       "       'Pronájem bytu pokoj 18m²', 'Pronájem bytu 1+kk 22m²',\n",
       "       'Pronájem bytu 1+kk 18m²', 'Pronájem bytu 1+kk 20m²',\n",
       "       'Pronájem bytu 3+kk 95m²', 'Pronájem bytu 2+1 62m²',\n",
       "       'Pronájem bytu 1+1 35m²', 'Pronájem bytu 3+1 66m²',\n",
       "       'Pronájem bytu 2+kk 58m²', 'Pronájem bytu 2+1 45m²',\n",
       "       'Pronájem bytu 4+1 83m²', 'Pronájem bytu 3+kk 62m²',\n",
       "       'Pronájem bytu 3+1 76m²', 'Pronájem bytu 3+kk 68m²',\n",
       "       'Pronájem bytu 3+kk 77m²', 'Pronájem bytu 2+kk 49m²',\n",
       "       'Pronájem bytu pokoj 22m²', 'Pronájem bytu 1+kk 35m²',\n",
       "       'Pronájem bytu pokoj 17m²', 'Pronájem bytu 3+1 70m²',\n",
       "       'Pronájem bytu 2+1 59m²', 'Pronájem bytu 2+1 60m²',\n",
       "       'Pronájem bytu 3+1 85m²', 'Pronájem bytu 3+1 67m²',\n",
       "       'Pronájem bytu 3+1 77m²', 'Pronájem bytu 1+kk 27m²',\n",
       "       'Pronájem bytu 2+kk 45m²', 'Pronájem bytu 3+1 60m²',\n",
       "       'Pronájem bytu 3+1 100m²', 'Pronájem bytu 2+1 120m²',\n",
       "       'Pronájem bytu 2+1 75m²', 'Pronájem bytu 2+kk 66m²',\n",
       "       'Pronájem bytu 1+1 37m²', 'Pronájem bytu 1+kk 25m²',\n",
       "       'Pronájem bytu atypický 35m²', 'Pronájem bytu pokoj 114m²',\n",
       "       'Pronájem bytu 1+kk 34m²', 'Pronájem bytu 3+kk 75m²',\n",
       "       'Pronájem bytu 2+kk 111m²', 'Pronájem bytu 1+1 16m²',\n",
       "       'Pronájem bytu 2+kk 52m²', 'Pronájem bytu pokoj 16m²',\n",
       "       'Pronájem bytu 2+kk 69m²', 'Pronájem bytu pokoj 89m²',\n",
       "       'Pronájem bytu 3+1 93m²', 'Pronájem bytu 1+kk 36m²',\n",
       "       'Pronájem bytu 2+kk 85m²', 'Pronájem bytu 2+1 54m²',\n",
       "       'Pronájem bytu 1+kk 33m²', 'Pronájem bytu 2+kk 120m²',\n",
       "       'Pronájem bytu 2+kk 86m²', 'Pronájem bytu 1+1 40m²',\n",
       "       'Pronájem bytu 4+1 79m²', 'Pronájem bytu 4+kk 100m²',\n",
       "       'Pronájem bytu 2+kk 40m²', 'Pronájem bytu 2+kk 47m²'], dtype=object)"
      ]
     },
     "execution_count": 441,
     "metadata": {},
     "output_type": "execute_result"
    }
   ],
   "source": [
    "df['Dispozice'].unique()"
   ]
  },
  {
   "cell_type": "code",
   "execution_count": 442,
   "id": "4dc0d0a0",
   "metadata": {},
   "outputs": [
    {
     "name": "stdout",
     "output_type": "stream",
     "text": [
      "<class 'pandas.core.frame.DataFrame'>\n",
      "RangeIndex: 153 entries, 0 to 152\n",
      "Data columns (total 10 columns):\n",
      " #   Column               Non-Null Count  Dtype \n",
      "---  ------               --------------  ----- \n",
      " 0   URL odkaz            153 non-null    object\n",
      " 1   Dispozice            153 non-null    object\n",
      " 2   Rozmery              153 non-null    object\n",
      " 3   Rozmer bez jednotek  153 non-null    object\n",
      " 4   Kompozice            153 non-null    object\n",
      " 5   Lokace               153 non-null    object\n",
      " 6   Ulice                153 non-null    object\n",
      " 7   Mesto                153 non-null    object\n",
      " 8   Cena za mesic        153 non-null    object\n",
      " 9   Cena                 153 non-null    object\n",
      "dtypes: object(10)\n",
      "memory usage: 12.1+ KB\n"
     ]
    }
   ],
   "source": [
    "df.info()"
   ]
  },
  {
   "cell_type": "code",
   "execution_count": 443,
   "id": "3f0f68f3",
   "metadata": {},
   "outputs": [],
   "source": [
    "df['Rozmer bez jednotek'] = df['Rozmer bez jednotek'].astype(int)"
   ]
  },
  {
   "cell_type": "code",
   "execution_count": 444,
   "id": "d6175cbf",
   "metadata": {},
   "outputs": [
    {
     "data": {
      "text/plain": [
       "array([ 57,  36,  26,  31,  65,  56,  25,  21,  68,  96,  41,  34,  48,\n",
       "        58,  64,  55, 115,  73,  37,  60,  44,  32,  33,  51,  28,  30,\n",
       "        23,  50,  29,  45,  40,  66,  38,  19, 110,  18,  22,  20,  95,\n",
       "        62,  35,  83,  76,  77,  49,  17,  70,  59,  85,  67,  27, 100,\n",
       "       120,  75, 114, 111,  16,  52,  69,  89,  93,  54,  86,  79,  47])"
      ]
     },
     "execution_count": 444,
     "metadata": {},
     "output_type": "execute_result"
    }
   ],
   "source": [
    "df['Rozmer bez jednotek'].unique()"
   ]
  },
  {
   "cell_type": "code",
   "execution_count": 445,
   "id": "fa3f03ee",
   "metadata": {},
   "outputs": [
    {
     "data": {
      "text/html": [
       "<div>\n",
       "<style scoped>\n",
       "    .dataframe tbody tr th:only-of-type {\n",
       "        vertical-align: middle;\n",
       "    }\n",
       "\n",
       "    .dataframe tbody tr th {\n",
       "        vertical-align: top;\n",
       "    }\n",
       "\n",
       "    .dataframe thead th {\n",
       "        text-align: right;\n",
       "    }\n",
       "</style>\n",
       "<table border=\"1\" class=\"dataframe\">\n",
       "  <thead>\n",
       "    <tr style=\"text-align: right;\">\n",
       "      <th></th>\n",
       "      <th>URL odkaz</th>\n",
       "      <th>Dispozice</th>\n",
       "      <th>Rozmery</th>\n",
       "      <th>Rozmer bez jednotek</th>\n",
       "      <th>Kompozice</th>\n",
       "      <th>Lokace</th>\n",
       "      <th>Ulice</th>\n",
       "      <th>Mesto</th>\n",
       "      <th>Cena za mesic</th>\n",
       "      <th>Cena</th>\n",
       "    </tr>\n",
       "  </thead>\n",
       "  <tbody>\n",
       "    <tr>\n",
       "      <th>0</th>\n",
       "      <td>https://www.sreality.cz/detail/pronajem/byt/2+...</td>\n",
       "      <td>Pronájem bytu 2+kk 57m²</td>\n",
       "      <td>57m²</td>\n",
       "      <td>57</td>\n",
       "      <td>2+kk</td>\n",
       "      <td>Nad Vývozem, Zlín</td>\n",
       "      <td>Nad Vývozem</td>\n",
       "      <td>Zlín</td>\n",
       "      <td>14000Kč/měsíc</td>\n",
       "      <td>14000</td>\n",
       "    </tr>\n",
       "    <tr>\n",
       "      <th>1</th>\n",
       "      <td>https://www.sreality.cz/detail/pronajem/byt/1+...</td>\n",
       "      <td>Pronájem bytu 1+1 36m²</td>\n",
       "      <td>36m²</td>\n",
       "      <td>36</td>\n",
       "      <td>1+1</td>\n",
       "      <td>Podlesí V, Zlín</td>\n",
       "      <td>Podlesí V</td>\n",
       "      <td>Zlín</td>\n",
       "      <td>11500Kč/měsíc</td>\n",
       "      <td>11500</td>\n",
       "    </tr>\n",
       "    <tr>\n",
       "      <th>2</th>\n",
       "      <td>https://www.sreality.cz/detail/pronajem/byt/1+...</td>\n",
       "      <td>Pronájem bytu 1+kk 26m²</td>\n",
       "      <td>26m²</td>\n",
       "      <td>26</td>\n",
       "      <td>1+kk</td>\n",
       "      <td>Tečovská, Zlín - Malenovice</td>\n",
       "      <td>Tečovská</td>\n",
       "      <td>Zlín - Malenovice</td>\n",
       "      <td>8300Kč/měsíc</td>\n",
       "      <td>8300</td>\n",
       "    </tr>\n",
       "    <tr>\n",
       "      <th>4</th>\n",
       "      <td>https://www.sreality.cz/detail/pronajem/byt/2+...</td>\n",
       "      <td>Pronájem bytu 2+kk 65m²</td>\n",
       "      <td>65m²</td>\n",
       "      <td>65</td>\n",
       "      <td>2+kk</td>\n",
       "      <td>Lorencova, Zlín</td>\n",
       "      <td>Lorencova</td>\n",
       "      <td>Zlín</td>\n",
       "      <td>18700Kč/měsíc</td>\n",
       "      <td>18700</td>\n",
       "    </tr>\n",
       "    <tr>\n",
       "      <th>5</th>\n",
       "      <td>https://www.sreality.cz/detail/pronajem/byt/2+...</td>\n",
       "      <td>Pronájem bytu 2+1 56m²</td>\n",
       "      <td>56m²</td>\n",
       "      <td>56</td>\n",
       "      <td>2+1</td>\n",
       "      <td>Dlouhá, Zlín</td>\n",
       "      <td>Dlouhá</td>\n",
       "      <td>Zlín</td>\n",
       "      <td>12000Kč/měsíc</td>\n",
       "      <td>12000</td>\n",
       "    </tr>\n",
       "  </tbody>\n",
       "</table>\n",
       "</div>"
      ],
      "text/plain": [
       "                                           URL odkaz                Dispozice  \\\n",
       "0  https://www.sreality.cz/detail/pronajem/byt/2+...  Pronájem bytu 2+kk 57m²   \n",
       "1  https://www.sreality.cz/detail/pronajem/byt/1+...   Pronájem bytu 1+1 36m²   \n",
       "2  https://www.sreality.cz/detail/pronajem/byt/1+...  Pronájem bytu 1+kk 26m²   \n",
       "4  https://www.sreality.cz/detail/pronajem/byt/2+...  Pronájem bytu 2+kk 65m²   \n",
       "5  https://www.sreality.cz/detail/pronajem/byt/2+...   Pronájem bytu 2+1 56m²   \n",
       "\n",
       "  Rozmery  Rozmer bez jednotek Kompozice                       Lokace  \\\n",
       "0    57m²                   57      2+kk            Nad Vývozem, Zlín   \n",
       "1    36m²                   36       1+1              Podlesí V, Zlín   \n",
       "2    26m²                   26      1+kk  Tečovská, Zlín - Malenovice   \n",
       "4    65m²                   65      2+kk              Lorencova, Zlín   \n",
       "5    56m²                   56       2+1                 Dlouhá, Zlín   \n",
       "\n",
       "         Ulice               Mesto  Cena za mesic   Cena  \n",
       "0  Nad Vývozem                Zlín  14000Kč/měsíc  14000  \n",
       "1    Podlesí V                Zlín  11500Kč/měsíc  11500  \n",
       "2     Tečovská   Zlín - Malenovice   8300Kč/měsíc   8300  \n",
       "4    Lorencova                Zlín  18700Kč/měsíc  18700  \n",
       "5       Dlouhá                Zlín  12000Kč/měsíc  12000  "
      ]
     },
     "execution_count": 445,
     "metadata": {},
     "output_type": "execute_result"
    }
   ],
   "source": [
    "df = df[df['Cena'] != 'Cena na vyžádání']\n",
    "df.head()"
   ]
  },
  {
   "cell_type": "code",
   "execution_count": 446,
   "id": "fa5a0fbf",
   "metadata": {},
   "outputs": [],
   "source": [
    "df['Cena'] = df['Cena'].astype(int)"
   ]
  },
  {
   "cell_type": "code",
   "execution_count": 447,
   "id": "cdfddc61",
   "metadata": {},
   "outputs": [
    {
     "name": "stdout",
     "output_type": "stream",
     "text": [
      "<class 'pandas.core.frame.DataFrame'>\n",
      "Index: 149 entries, 0 to 152\n",
      "Data columns (total 10 columns):\n",
      " #   Column               Non-Null Count  Dtype \n",
      "---  ------               --------------  ----- \n",
      " 0   URL odkaz            149 non-null    object\n",
      " 1   Dispozice            149 non-null    object\n",
      " 2   Rozmery              149 non-null    object\n",
      " 3   Rozmer bez jednotek  149 non-null    int32 \n",
      " 4   Kompozice            149 non-null    object\n",
      " 5   Lokace               149 non-null    object\n",
      " 6   Ulice                149 non-null    object\n",
      " 7   Mesto                149 non-null    object\n",
      " 8   Cena za mesic        149 non-null    object\n",
      " 9   Cena                 149 non-null    int32 \n",
      "dtypes: int32(2), object(8)\n",
      "memory usage: 11.6+ KB\n"
     ]
    }
   ],
   "source": [
    "df.info()"
   ]
  },
  {
   "cell_type": "code",
   "execution_count": 450,
   "id": "aa89b2b7",
   "metadata": {},
   "outputs": [],
   "source": [
    "df.to_csv('Samanova_zdrojova_data_projekt', index=False)"
   ]
  },
  {
   "cell_type": "code",
   "execution_count": 453,
   "id": "98c07d83",
   "metadata": {},
   "outputs": [
    {
     "data": {
      "text/html": [
       "<div>\n",
       "<style scoped>\n",
       "    .dataframe tbody tr th:only-of-type {\n",
       "        vertical-align: middle;\n",
       "    }\n",
       "\n",
       "    .dataframe tbody tr th {\n",
       "        vertical-align: top;\n",
       "    }\n",
       "\n",
       "    .dataframe thead th {\n",
       "        text-align: right;\n",
       "    }\n",
       "</style>\n",
       "<table border=\"1\" class=\"dataframe\">\n",
       "  <thead>\n",
       "    <tr style=\"text-align: right;\">\n",
       "      <th></th>\n",
       "      <th>URL odkaz</th>\n",
       "      <th>Dispozice</th>\n",
       "      <th>Rozmery</th>\n",
       "      <th>Rozmer bez jednotek</th>\n",
       "      <th>Kompozice</th>\n",
       "      <th>Lokace</th>\n",
       "      <th>Ulice</th>\n",
       "      <th>Mesto</th>\n",
       "      <th>Cena za mesic</th>\n",
       "      <th>Cena</th>\n",
       "    </tr>\n",
       "  </thead>\n",
       "  <tbody>\n",
       "    <tr>\n",
       "      <th>0</th>\n",
       "      <td>https://www.sreality.cz/detail/pronajem/byt/2+...</td>\n",
       "      <td>Pronájem bytu 2+kk 57m²</td>\n",
       "      <td>57m²</td>\n",
       "      <td>57</td>\n",
       "      <td>2+kk</td>\n",
       "      <td>Nad Vývozem, Zlín</td>\n",
       "      <td>Nad Vývozem</td>\n",
       "      <td>Zlín</td>\n",
       "      <td>14000Kč/měsíc</td>\n",
       "      <td>14000</td>\n",
       "    </tr>\n",
       "    <tr>\n",
       "      <th>1</th>\n",
       "      <td>https://www.sreality.cz/detail/pronajem/byt/1+...</td>\n",
       "      <td>Pronájem bytu 1+1 36m²</td>\n",
       "      <td>36m²</td>\n",
       "      <td>36</td>\n",
       "      <td>1+1</td>\n",
       "      <td>Podlesí V, Zlín</td>\n",
       "      <td>Podlesí V</td>\n",
       "      <td>Zlín</td>\n",
       "      <td>11500Kč/měsíc</td>\n",
       "      <td>11500</td>\n",
       "    </tr>\n",
       "    <tr>\n",
       "      <th>2</th>\n",
       "      <td>https://www.sreality.cz/detail/pronajem/byt/1+...</td>\n",
       "      <td>Pronájem bytu 1+kk 26m²</td>\n",
       "      <td>26m²</td>\n",
       "      <td>26</td>\n",
       "      <td>1+kk</td>\n",
       "      <td>Tečovská, Zlín - Malenovice</td>\n",
       "      <td>Tečovská</td>\n",
       "      <td>Zlín - Malenovice</td>\n",
       "      <td>8300Kč/měsíc</td>\n",
       "      <td>8300</td>\n",
       "    </tr>\n",
       "    <tr>\n",
       "      <th>3</th>\n",
       "      <td>https://www.sreality.cz/detail/pronajem/byt/2+...</td>\n",
       "      <td>Pronájem bytu 2+kk 65m²</td>\n",
       "      <td>65m²</td>\n",
       "      <td>65</td>\n",
       "      <td>2+kk</td>\n",
       "      <td>Lorencova, Zlín</td>\n",
       "      <td>Lorencova</td>\n",
       "      <td>Zlín</td>\n",
       "      <td>18700Kč/měsíc</td>\n",
       "      <td>18700</td>\n",
       "    </tr>\n",
       "    <tr>\n",
       "      <th>4</th>\n",
       "      <td>https://www.sreality.cz/detail/pronajem/byt/2+...</td>\n",
       "      <td>Pronájem bytu 2+1 56m²</td>\n",
       "      <td>56m²</td>\n",
       "      <td>56</td>\n",
       "      <td>2+1</td>\n",
       "      <td>Dlouhá, Zlín</td>\n",
       "      <td>Dlouhá</td>\n",
       "      <td>Zlín</td>\n",
       "      <td>12000Kč/měsíc</td>\n",
       "      <td>12000</td>\n",
       "    </tr>\n",
       "  </tbody>\n",
       "</table>\n",
       "</div>"
      ],
      "text/plain": [
       "                                           URL odkaz                Dispozice  \\\n",
       "0  https://www.sreality.cz/detail/pronajem/byt/2+...  Pronájem bytu 2+kk 57m²   \n",
       "1  https://www.sreality.cz/detail/pronajem/byt/1+...   Pronájem bytu 1+1 36m²   \n",
       "2  https://www.sreality.cz/detail/pronajem/byt/1+...  Pronájem bytu 1+kk 26m²   \n",
       "3  https://www.sreality.cz/detail/pronajem/byt/2+...  Pronájem bytu 2+kk 65m²   \n",
       "4  https://www.sreality.cz/detail/pronajem/byt/2+...   Pronájem bytu 2+1 56m²   \n",
       "\n",
       "  Rozmery  Rozmer bez jednotek Kompozice                       Lokace  \\\n",
       "0    57m²                   57      2+kk            Nad Vývozem, Zlín   \n",
       "1    36m²                   36       1+1              Podlesí V, Zlín   \n",
       "2    26m²                   26      1+kk  Tečovská, Zlín - Malenovice   \n",
       "3    65m²                   65      2+kk              Lorencova, Zlín   \n",
       "4    56m²                   56       2+1                 Dlouhá, Zlín   \n",
       "\n",
       "         Ulice               Mesto  Cena za mesic   Cena  \n",
       "0  Nad Vývozem                Zlín  14000Kč/měsíc  14000  \n",
       "1    Podlesí V                Zlín  11500Kč/měsíc  11500  \n",
       "2     Tečovská   Zlín - Malenovice   8300Kč/měsíc   8300  \n",
       "3    Lorencova                Zlín  18700Kč/měsíc  18700  \n",
       "4       Dlouhá                Zlín  12000Kč/měsíc  12000  "
      ]
     },
     "execution_count": 453,
     "metadata": {},
     "output_type": "execute_result"
    }
   ],
   "source": [
    "import pandas as pd\n",
    "import requests\n",
    "\n",
    "df_byty = pd.read_csv('Samanova_zdrojova_data_projekt.csv')\n",
    "df_byty.head()"
   ]
  },
  {
   "cell_type": "markdown",
   "id": "8993160f",
   "metadata": {},
   "source": [
    "3. Datová analýza - analýza dat\n",
    "- Ve druhé fázi proveďte analýzu dat a odpovězte na tyto dotazy:\n",
    "- `Jaká je průměrná cena bytů?`\n",
    "- `Jaká je průměrná cena bytů pro každou kompozici (1+1, 2+1, atp.)? Zobrazte i na grafu.`\n",
    "- `Jaká je průměrná velikost bytu pro každou kompozici?`\n",
    "- `Existuje ulice, kde je vyšší koncentrace dražších bytů?`\n",
    "- `Jaký typ kompozice je v daném městě nejčastěji inzerovan? Který to je? Proč myslíte, že tomu tak je?`\n",
    "- `Existují zde inzerce bytů, které stojí více, než 20.000,-? Pokud ano, jsou v této cenové hladině inzerovány i maximálně dvoupokojové byty (2+1/2+kk)?`\n",
    "- `Zjištěte minimální a maximální inzerce pro každou kompozici bytu. Která kompozice má největší rozptyl mezi minimální a maximální inzerovanou cenou?`"
   ]
  },
  {
   "cell_type": "code",
   "execution_count": 454,
   "id": "abfd0fa2",
   "metadata": {},
   "outputs": [
    {
     "name": "stdout",
     "output_type": "stream",
     "text": [
      "Prumerna cena bytu je: 14058.98 Kc.\n"
     ]
    }
   ],
   "source": [
    "# prumerna cena bytu\n",
    "\n",
    "prumerna_cena = df_byty['Cena'].mean()\n",
    "print(f'Prumerna cena bytu je: {round(prumerna_cena, 2)} Kc.')"
   ]
  },
  {
   "cell_type": "code",
   "execution_count": 455,
   "id": "d17fb028",
   "metadata": {},
   "outputs": [
    {
     "name": "stdout",
     "output_type": "stream",
     "text": [
      "Kompozice\n",
      "pokoj        6889.78\n",
      "atypický     9750.00\n",
      "1+1         10228.57\n",
      "1+kk        11112.00\n",
      "2+1         13341.07\n",
      "2+kk        16422.79\n",
      "3+1         16450.00\n",
      "3+kk        19125.00\n",
      "4+1         20000.00\n",
      "4+kk        39900.00\n",
      "Name: Cena, dtype: float64\n"
     ]
    },
    {
     "data": {
      "image/png": "[encoded data removed]",
      "text/plain": [
       "<Figure size 640x480 with 1 Axes>"
      ]
     },
     "metadata": {},
     "output_type": "display_data"
    }
   ],
   "source": [
    "# prumerna cena bytu pro kazdou kompozici + graf\n",
    "\n",
    "import matplotlib.pyplot as plt\n",
    "\n",
    "prumerna_cena = df_byty.groupby('Kompozice')['Cena'].mean().round(2).sort_values()\n",
    "print(prumerna_cena)\n",
    "\n",
    "plt.bar(prumerna_cena.index, prumerna_cena.values, label='Prumerna cena bytu pro kazdou kompozici')\n",
    "plt.title('Prumerna cena bytu pro kazdou kompozici')\n",
    "plt.xlabel('Kompozice')\n",
    "plt.ylabel('Cena')\n",
    "plt.xticks(rotation=45)\n",
    "\n",
    "plt.legend()\n",
    "#plt.grid()\n",
    "plt.show()"
   ]
  },
  {
   "cell_type": "code",
   "execution_count": 456,
   "id": "14ab4a0c",
   "metadata": {},
   "outputs": [
    {
     "data": {
      "text/plain": [
       "Kompozice\n",
       "1+1          35.07\n",
       "1+kk         28.88\n",
       "2+1          56.96\n",
       "2+kk         59.26\n",
       "3+1          78.59\n",
       "3+kk         82.88\n",
       "4+1          81.00\n",
       "4+kk        100.00\n",
       "atypický     27.00\n",
       "pokoj        37.67\n",
       "Name: Rozmer bez jednotek, dtype: float64"
      ]
     },
     "execution_count": 456,
     "metadata": {},
     "output_type": "execute_result"
    }
   ],
   "source": [
    "# Jaká je průměrná velikost bytu pro každou kompozici?\n",
    "\n",
    "df_byty.groupby('Kompozice')['Rozmer bez jednotek'].mean().round(2)"
   ]
  },
  {
   "cell_type": "code",
   "execution_count": 457,
   "id": "64170d77",
   "metadata": {},
   "outputs": [
    {
     "name": "stdout",
     "output_type": "stream",
     "text": [
      "<class 'pandas.core.frame.DataFrame'>\n",
      "RangeIndex: 149 entries, 0 to 148\n",
      "Data columns (total 10 columns):\n",
      " #   Column               Non-Null Count  Dtype \n",
      "---  ------               --------------  ----- \n",
      " 0   URL odkaz            149 non-null    object\n",
      " 1   Dispozice            149 non-null    object\n",
      " 2   Rozmery              149 non-null    object\n",
      " 3   Rozmer bez jednotek  149 non-null    int64 \n",
      " 4   Kompozice            149 non-null    object\n",
      " 5   Lokace               149 non-null    object\n",
      " 6   Ulice                135 non-null    object\n",
      " 7   Mesto                149 non-null    object\n",
      " 8   Cena za mesic        149 non-null    object\n",
      " 9   Cena                 149 non-null    int64 \n",
      "dtypes: int64(2), object(8)\n",
      "memory usage: 11.8+ KB\n"
     ]
    }
   ],
   "source": [
    "df_byty.info()"
   ]
  },
  {
   "cell_type": "code",
   "execution_count": 460,
   "id": "3de53e10",
   "metadata": {},
   "outputs": [
    {
     "name": "stdout",
     "output_type": "stream",
     "text": [
      "Ulice s nejvíce byty s cenou vyšší než průměr je Na Honech II.\n"
     ]
    }
   ],
   "source": [
    "prumerna_cena = df_byty['Cena'].mean()\n",
    "df_vyssi_nez_prum_cena = df_byty.loc[df_byty['Cena']>int(prumerna_cena)]\n",
    "nejdrazsi_ulice = df_vyssi_nez_prum_cena.groupby('Ulice')['Cena'].count()\n",
    "luxusni_ulice = nejdrazsi_ulice.idxmax()\n",
    "#print(luxusni_ulice)\n",
    "\n",
    "print(f'Ulice s nejvíce byty s cenou vyšší než průměr je {luxusni_ulice}.')"
   ]
  },
  {
   "cell_type": "code",
   "execution_count": 461,
   "id": "ae6fd95e",
   "metadata": {},
   "outputs": [
    {
     "name": "stdout",
     "output_type": "stream",
     "text": [
      "Mesto\n",
      " Fryšták                                   ( Fryšták, 2+kk)\n",
      " Fryšták - Horní Ves           ( Fryšták - Horní Ves, 2+kk)\n",
      " Luhačovice                             ( Luhačovice, 2+kk)\n",
      " Napajedla                               ( Napajedla, 1+kk)\n",
      " Otrokovice                              ( Otrokovice, 2+1)\n",
      " Otrokovice - Kvítkovice    ( Otrokovice - Kvítkovice, 2+1)\n",
      " Slušovice                                ( Slušovice, 2+1)\n",
      " Valašské Klobouky               ( Valašské Klobouky, 2+kk)\n",
      " Zlín                                         ( Zlín, 2+kk)\n",
      " Zlín - Jaroslavice             ( Zlín - Jaroslavice, 1+kk)\n",
      " Zlín - Kostelec                    ( Zlín - Kostelec, 2+1)\n",
      " Zlín - Kudlov                        ( Zlín - Kudlov, 2+1)\n",
      " Zlín - Louky                         ( Zlín - Louky, 2+kk)\n",
      " Zlín - Malenovice               ( Zlín - Malenovice, 1+kk)\n",
      " Zlín - Prštné                        ( Zlín - Prštné, 2+1)\n",
      " Zlín - Příluky                     ( Zlín - Příluky, 1+kk)\n",
      "Luhačovice                               (Luhačovice, 2+kk)\n",
      "Napajedla                                  (Napajedla, 2+1)\n",
      "Otrokovice - Kvítkovice      (Otrokovice - Kvítkovice, 1+1)\n",
      "Racková                                      (Racková, 1+1)\n",
      "Zlín                                            (Zlín, 3+1)\n",
      "Zlín - Louky                           (Zlín - Louky, 2+kk)\n",
      "Zlín - Prštné                        (Zlín - Prštné, pokoj)\n",
      "Žlutava                                     (Žlutava, 1+kk)\n",
      "Name: count, dtype: object\n"
     ]
    }
   ],
   "source": [
    "# Jaký typ kompozice je v daném městě nejčastěji inzerovan? Který to je? Proč myslíte, že tomu tak je?\n",
    "\n",
    "kompozice_ve_meste = df_byty.groupby('Mesto')['Kompozice'].value_counts()\n",
    "\n",
    "nejcastejsi_kompozice = kompozice_ve_meste.groupby('Mesto').idxmax()\n",
    "\n",
    "# Výsledek\n",
    "print(nejcastejsi_kompozice)"
   ]
  },
  {
   "cell_type": "code",
   "execution_count": 462,
   "id": "494eaf9b",
   "metadata": {},
   "outputs": [
    {
     "data": {
      "text/plain": [
       "array(['2+kk', '1+1', '1+kk', '2+1', '3+1', '3+kk', 'atypický', 'pokoj',\n",
       "       '4+1', '4+kk'], dtype=object)"
      ]
     },
     "execution_count": 462,
     "metadata": {},
     "output_type": "execute_result"
    }
   ],
   "source": [
    "df_byty['Kompozice'].unique()"
   ]
  },
  {
   "cell_type": "code",
   "execution_count": 471,
   "id": "f90c6800",
   "metadata": {},
   "outputs": [
    {
     "data": {
      "text/html": [
       "<div>\n",
       "<style scoped>\n",
       "    .dataframe tbody tr th:only-of-type {\n",
       "        vertical-align: middle;\n",
       "    }\n",
       "\n",
       "    .dataframe tbody tr th {\n",
       "        vertical-align: top;\n",
       "    }\n",
       "\n",
       "    .dataframe thead th {\n",
       "        text-align: right;\n",
       "    }\n",
       "</style>\n",
       "<table border=\"1\" class=\"dataframe\">\n",
       "  <thead>\n",
       "    <tr style=\"text-align: right;\">\n",
       "      <th></th>\n",
       "      <th>URL odkaz</th>\n",
       "      <th>Dispozice</th>\n",
       "      <th>Rozmery</th>\n",
       "      <th>Rozmer bez jednotek</th>\n",
       "      <th>Kompozice</th>\n",
       "      <th>Lokace</th>\n",
       "      <th>Ulice</th>\n",
       "      <th>Mesto</th>\n",
       "      <th>Cena za mesic</th>\n",
       "      <th>Cena</th>\n",
       "    </tr>\n",
       "  </thead>\n",
       "  <tbody>\n",
       "    <tr>\n",
       "      <th>8</th>\n",
       "      <td>https://www.sreality.cz/detail/pronajem/byt/2+...</td>\n",
       "      <td>Pronájem bytu 2+kk 96m²</td>\n",
       "      <td>96m²</td>\n",
       "      <td>96</td>\n",
       "      <td>2+kk</td>\n",
       "      <td>Lešetín I, Zlín</td>\n",
       "      <td>Lešetín I</td>\n",
       "      <td>Zlín</td>\n",
       "      <td>25000Kč/měsíc</td>\n",
       "      <td>25000</td>\n",
       "    </tr>\n",
       "    <tr>\n",
       "      <th>18</th>\n",
       "      <td>https://www.sreality.cz/detail/pronajem/byt/2+...</td>\n",
       "      <td>Pronájem bytu 2+kk 64m²</td>\n",
       "      <td>64m²</td>\n",
       "      <td>64</td>\n",
       "      <td>2+kk</td>\n",
       "      <td>třída Svobody, Zlín - Malenovice</td>\n",
       "      <td>třída Svobody</td>\n",
       "      <td>Zlín - Malenovice</td>\n",
       "      <td>20690Kč/měsíc</td>\n",
       "      <td>20690</td>\n",
       "    </tr>\n",
       "    <tr>\n",
       "      <th>116</th>\n",
       "      <td>https://www.sreality.cz/detail/pronajem/byt/2+...</td>\n",
       "      <td>Pronájem bytu 2+kk 111m²</td>\n",
       "      <td>111m²</td>\n",
       "      <td>111</td>\n",
       "      <td>2+kk</td>\n",
       "      <td>Smetanova, Zlín</td>\n",
       "      <td>Smetanova</td>\n",
       "      <td>Zlín</td>\n",
       "      <td>25000Kč/měsíc</td>\n",
       "      <td>25000</td>\n",
       "    </tr>\n",
       "    <tr>\n",
       "      <th>131</th>\n",
       "      <td>https://www.sreality.cz/detail/pronajem/byt/2+...</td>\n",
       "      <td>Pronájem bytu 2+kk 85m²</td>\n",
       "      <td>85m²</td>\n",
       "      <td>85</td>\n",
       "      <td>2+kk</td>\n",
       "      <td>Luhačovice</td>\n",
       "      <td>NaN</td>\n",
       "      <td>Luhačovice</td>\n",
       "      <td>22000Kč/měsíc</td>\n",
       "      <td>22000</td>\n",
       "    </tr>\n",
       "    <tr>\n",
       "      <th>139</th>\n",
       "      <td>https://www.sreality.cz/detail/pronajem/byt/2+...</td>\n",
       "      <td>Pronájem bytu 2+kk 120m²</td>\n",
       "      <td>120m²</td>\n",
       "      <td>120</td>\n",
       "      <td>2+kk</td>\n",
       "      <td>Nádražní, Luhačovice</td>\n",
       "      <td>Nádražní</td>\n",
       "      <td>Luhačovice</td>\n",
       "      <td>23000Kč/měsíc</td>\n",
       "      <td>23000</td>\n",
       "    </tr>\n",
       "    <tr>\n",
       "      <th>143</th>\n",
       "      <td>https://www.sreality.cz/detail/pronajem/byt/2+...</td>\n",
       "      <td>Pronájem bytu 2+kk 85m²</td>\n",
       "      <td>85m²</td>\n",
       "      <td>85</td>\n",
       "      <td>2+kk</td>\n",
       "      <td>Luhačovice</td>\n",
       "      <td>NaN</td>\n",
       "      <td>Luhačovice</td>\n",
       "      <td>22000Kč/měsíc</td>\n",
       "      <td>22000</td>\n",
       "    </tr>\n",
       "  </tbody>\n",
       "</table>\n",
       "</div>"
      ],
      "text/plain": [
       "                                             URL odkaz  \\\n",
       "8    https://www.sreality.cz/detail/pronajem/byt/2+...   \n",
       "18   https://www.sreality.cz/detail/pronajem/byt/2+...   \n",
       "116  https://www.sreality.cz/detail/pronajem/byt/2+...   \n",
       "131  https://www.sreality.cz/detail/pronajem/byt/2+...   \n",
       "139  https://www.sreality.cz/detail/pronajem/byt/2+...   \n",
       "143  https://www.sreality.cz/detail/pronajem/byt/2+...   \n",
       "\n",
       "                    Dispozice Rozmery  Rozmer bez jednotek Kompozice  \\\n",
       "8     Pronájem bytu 2+kk 96m²    96m²                   96      2+kk   \n",
       "18    Pronájem bytu 2+kk 64m²    64m²                   64      2+kk   \n",
       "116  Pronájem bytu 2+kk 111m²   111m²                  111      2+kk   \n",
       "131   Pronájem bytu 2+kk 85m²    85m²                   85      2+kk   \n",
       "139  Pronájem bytu 2+kk 120m²   120m²                  120      2+kk   \n",
       "143   Pronájem bytu 2+kk 85m²    85m²                   85      2+kk   \n",
       "\n",
       "                               Lokace          Ulice               Mesto  \\\n",
       "8                     Lešetín I, Zlín      Lešetín I                Zlín   \n",
       "18   třída Svobody, Zlín - Malenovice  třída Svobody   Zlín - Malenovice   \n",
       "116                   Smetanova, Zlín      Smetanova                Zlín   \n",
       "131                        Luhačovice            NaN          Luhačovice   \n",
       "139              Nádražní, Luhačovice       Nádražní          Luhačovice   \n",
       "143                        Luhačovice            NaN          Luhačovice   \n",
       "\n",
       "     Cena za mesic   Cena  \n",
       "8    25000Kč/měsíc  25000  \n",
       "18   20690Kč/měsíc  20690  \n",
       "116  25000Kč/měsíc  25000  \n",
       "131  22000Kč/měsíc  22000  \n",
       "139  23000Kč/měsíc  23000  \n",
       "143  22000Kč/měsíc  22000  "
      ]
     },
     "execution_count": 471,
     "metadata": {},
     "output_type": "execute_result"
    }
   ],
   "source": [
    "# Existují zde inzerce bytů, které stojí více, než 20.000,-? Pokud ano, jsou v této cenové hladině inzerovány i maximálně dvoupokojové byty (2+1/2+kk)?\n",
    "\n",
    "df_byty.loc[\n",
    "    (df_byty['Cena'] > 20000) & \n",
    "    (\n",
    "        (df_byty['Kompozice'] == '2+kk') | \n",
    "        (df_byty['Kompozice'] == '1+kk') | \n",
    "        (df_byty['Kompozice'] == '2+1') | \n",
    "        (df_byty['Kompozice'] == '1+1')\n",
    "    )\n",
    "]"
   ]
  },
  {
   "cell_type": "code",
   "execution_count": 472,
   "id": "882b7fbc",
   "metadata": {},
   "outputs": [
    {
     "name": "stdout",
     "output_type": "stream",
     "text": [
      "Kompozice\n",
      "1+1         13500\n",
      "1+kk        14900\n",
      "2+1         16500\n",
      "2+kk        25000\n",
      "3+1         19000\n",
      "3+kk        29000\n",
      "4+1         21000\n",
      "4+kk        39900\n",
      "atypický    12000\n",
      "pokoj       10500\n",
      "Name: Cena, dtype: int64\n",
      "Kompozice\n",
      "1+1          4200\n",
      "1+kk         6500\n",
      "2+1          9000\n",
      "2+kk         9000\n",
      "3+1         11900\n",
      "3+kk        13000\n",
      "4+1         19000\n",
      "4+kk        39900\n",
      "atypický     7500\n",
      "pokoj        3708\n",
      "Name: Cena, dtype: int64\n",
      "Kompozice\n",
      "1+1          9300\n",
      "1+kk         8400\n",
      "2+1          7500\n",
      "2+kk        16000\n",
      "3+1          7100\n",
      "3+kk        16000\n",
      "4+1          2000\n",
      "4+kk            0\n",
      "atypický     4500\n",
      "pokoj        6792\n",
      "Name: Cena, dtype: int64\n",
      "Nejvetsi rozptyl maji: Kompozice\n",
      "2+kk    16000\n",
      "3+kk    16000\n",
      "Name: Cena, dtype: int64.\n"
     ]
    }
   ],
   "source": [
    "# Zjištěte minimální a maximální inzerce pro každou kompozici bytu. Která kompozice má největší rozptyl mezi minimální a maximální inzerovanou cenou?\n",
    "\n",
    "maximalni_cena = df_byty.groupby('Kompozice')['Cena'].max()\n",
    "print(maximalni_cena)\n",
    "\n",
    "minimalni_cena = df_byty.groupby('Kompozice')['Cena'].min()\n",
    "print(minimalni_cena)\n",
    "\n",
    "rozptyl = maximalni_cena - minimalni_cena\n",
    "print(rozptyl)\n",
    "\n",
    "nejvetsi_rozptyl = rozptyl[rozptyl == rozptyl.max()]\n",
    "print(f'Nejvetsi rozptyl maji: {nejvetsi_rozptyl}.')"
   ]
  },
  {
   "cell_type": "code",
   "execution_count": null,
   "id": "df9de44c",
   "metadata": {},
   "outputs": [],
   "source": []
  }
 ],
 "metadata": {
  "kernelspec": {
   "display_name": "base",
   "language": "python",
   "name": "python3"
  },
  "language_info": {
   "codemirror_mode": {
    "name": "ipython",
    "version": 3
   },
   "file_extension": ".py",
   "mimetype": "text/x-python",
   "name": "python",
   "nbconvert_exporter": "python",
   "pygments_lexer": "ipython3",
   "version": "3.12.7"
  }
 },
 "nbformat": 4,
 "nbformat_minor": 5
}
